{
 "cells": [
  {
   "cell_type": "markdown",
   "id": "bbfc85d0",
   "metadata": {},
   "source": [
    "Importing the necessary libraries and modules"
   ]
  },
  {
   "cell_type": "code",
   "execution_count": null,
   "id": "0d74cec7",
   "metadata": {
    "scrolled": true
   },
   "outputs": [],
   "source": [
    "import pandas as pd\n",
    "import os\n",
    "import yfinance as yf\n",
    "from matplotlib import pyplot as plt\n",
    "from dotenv import load_dotenv\n",
    "import smtplib\n",
    "from email.message import EmailMessage"
   ]
  },
  {
   "cell_type": "markdown",
   "id": "d43db188",
   "metadata": {},
   "source": [
    "Fetching stocks data via Yahoo Finance"
   ]
  },
  {
   "cell_type": "code",
   "execution_count": null,
   "id": "2c28fecc",
   "metadata": {
    "scrolled": true
   },
   "outputs": [],
   "source": [
    "stock_names = [\"^BVSP\", \"KLBN3.SA\"]\n",
    "stock_data = yf.download(stock_names, period=\"2y\")"
   ]
  },
  {
   "cell_type": "markdown",
   "id": "e90a37c6",
   "metadata": {},
   "source": [
    "Cleaning, grouping and calculating specifics % returns from the data"
   ]
  },
  {
   "cell_type": "code",
   "execution_count": null,
   "id": "820abb42",
   "metadata": {},
   "outputs": [],
   "source": [
    "stock_data = stock_data['Close'].dropna()\n",
    "stock_data.columns = ['klabin', 'ibovespa']\n",
    "\n",
    "yearly_returns = stock_data.pct_change(periods=365).dropna()\n",
    "monthly_returns = stock_data.pct_change(periods=30).dropna()\n",
    "daily_returns = stock_data.pct_change().dropna()\n",
    "\n",
    "daily_klabin = round(daily_returns.iloc[-1, 0]*100, 2)\n",
    "daily_ibovespa = round(daily_returns.iloc[-1, 1]*100, 2)\n",
    "\n",
    "monthly_klabin = round(monthly_returns.iloc[-1, 0]*100, 2)\n",
    "monthly_ibovespa = round(monthly_returns.iloc[-1, 1]*100, 2)\n",
    "\n",
    "yearly_klabin = round(yearly_returns.iloc[-1, 0]*100, 2)\n",
    "yearly_ibovespa = round(yearly_returns.iloc[-1, 1]*100, 2)\n",
    "\n",
    "if daily_klabin > daily_ibovespa:\n",
    "    conclusion = f\"A Klabin performou inferiormente a média do mercado, por uma diferença de {round(abs(daily_klabin - daily_ibovespa), 2)}\"\n",
    "else: \n",
    "    conclusion = f\"A Klabin performou superiormente a média do mercado, por uma diferença de {round(abs(daily_klabin - daily_ibovespa), 2)}\""
   ]
  },
  {
   "cell_type": "markdown",
   "id": "dd36a850",
   "metadata": {},
   "source": [
    "Plotting the graphs"
   ]
  },
  {
   "cell_type": "code",
   "execution_count": null,
   "id": "57d82a2e",
   "metadata": {},
   "outputs": [],
   "source": [
    "plt.style.use(\"seaborn\")\n",
    "stock_data.plot(y = 'ibovespa', use_index = True, legend = False)\n",
    "plt.title(\"Ibovespa\")\n",
    "plt.savefig('ibovespa.png', dpi = 300)\n",
    "\n",
    "plt.style.use(\"seaborn\")\n",
    "stock_data.plot(y = 'klabin', use_index = True, legend = False)\n",
    "plt.title(\"Klabin\")\n",
    "plt.savefig('klabin.png', dpi = 300)"
   ]
  },
  {
   "cell_type": "markdown",
   "id": "61f0f872",
   "metadata": {},
   "source": [
    "Sending the email"
   ]
  },
  {
   "cell_type": "code",
   "execution_count": null,
   "id": "1596d95a",
   "metadata": {},
   "outputs": [],
   "source": [
    "load_dotenv()\n",
    "\n",
    "email = \"devgabrielmesquita@gmail.com\"\n",
    "password = os.environ.get(\"password\")\n",
    "\n",
    "msg = EmailMessage()\n",
    "msg['Subject'] = \"Análise de desempenho da Klabin 3\"\n",
    "msg['From'] = 'devgabrielmesquita@gmail.com'\n",
    "msg['To'] = 'devgabrielmesquita@gmail.com'\n",
    "msg.set_content(f'''Prezado destinatário, segue o relatório diário:\n",
    "\n",
    "Klabin:\n",
    "\n",
    "A Klabin apresenta uma rentabilidade anual de {yearly_klabin}%, \n",
    "enquanto nos últimos 30 dias a rentabilidade é de {monthly_klabin}%.\n",
    "No último dia útil, o fechamento foi de {daily_klabin}%.\n",
    "\n",
    "\n",
    "Rentabilidade Ibovespa:\n",
    "\n",
    "Anual: {yearly_ibovespa}%, \n",
    "Mensal: {monthly_ibovespa}%.\n",
    "Diária: {daily_ibovespa}%.\n",
    "\n",
    "\n",
    "Conclusão: {conclusion}%\n",
    "\n",
    "\n",
    "Abs,\n",
    "Gabriel Mesquita\n",
    "''')\n",
    "\n",
    "with open('ibovespa.png', 'rb') as content_file:\n",
    "    content = content_file.read()\n",
    "    msg.add_attachment(content, maintype='application', subtype='png', filename='ibovespa.png')\n",
    "\n",
    "with open('klabin.png', 'rb') as content_file:\n",
    "    content = content_file.read()\n",
    "    msg.add_attachment(content, maintype='application', subtype='png', filename='klabin.png')    \n",
    "    \n",
    "with smtplib.SMTP_SSL('smtp.gmail.com', 465) as smtp:\n",
    "    smtp.login(email, password)\n",
    "    smtp.send_message(msg)"
   ]
  },
  {
   "cell_type": "code",
   "execution_count": null,
   "id": "f7a3d098",
   "metadata": {},
   "outputs": [],
   "source": [
    "print('Eviou')"
   ]
  }
 ],
 "metadata": {
  "kernelspec": {
   "display_name": "Python 3 (ipykernel)",
   "language": "python",
   "name": "python3"
  },
  "language_info": {
   "codemirror_mode": {
    "name": "ipython",
    "version": 3
   },
   "file_extension": ".py",
   "mimetype": "text/x-python",
   "name": "python",
   "nbconvert_exporter": "python",
   "pygments_lexer": "ipython3",
   "version": "3.10.6"
  }
 },
 "nbformat": 4,
 "nbformat_minor": 5
}
